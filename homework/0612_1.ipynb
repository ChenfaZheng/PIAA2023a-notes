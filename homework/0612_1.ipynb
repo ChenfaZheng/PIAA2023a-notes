{
 "cells": [
  {
   "cell_type": "code",
   "execution_count": 134,
   "metadata": {},
   "outputs": [],
   "source": [
    "import numpy as np\n",
    "import matplotlib.pyplot as plt"
   ]
  },
  {
   "cell_type": "code",
   "execution_count": 129,
   "metadata": {},
   "outputs": [],
   "source": [
    "def cal_snr(\n",
    "        N_star: float,  \n",
    "        N_sky: float, \n",
    "        N_dark: float, \n",
    "        N_read: float, \n",
    "):\n",
    "    \"\"\"\n",
    "    Calculate the SNR of a spectrum.\n",
    "    \n",
    "    Parameters\n",
    "    ----------\n",
    "    N_star : float\n",
    "        Number of photons from the star.\n",
    "    N_sky : float\n",
    "        Number of photons from the sky.\n",
    "    N_dark : float\n",
    "        Number of photons from the dark current.\n",
    "    N_read : float\n",
    "        Number of photons from the read noise.\n",
    "        \n",
    "    Returns\n",
    "    -------\n",
    "    snr : float\n",
    "        SNR of the spectrum.\n",
    "    \"\"\"\n",
    "    snr = N_star / np.sqrt(N_star + (N_sky + N_dark + N_read**2))\n",
    "    return snr\n",
    "\n",
    "def cal_flux(mag, k, eff):\n",
    "    return 10**(-0.4 * (mag - 8.9 + k)) * eff * 1e-26"
   ]
  },
  {
   "cell_type": "code",
   "execution_count": 130,
   "metadata": {},
   "outputs": [],
   "source": [
    "app = 0.36  # arcsec^2 per pixel\n",
    "\n",
    "seeing = 1.5  # arcsec\n",
    "psf_area = np.pi * (seeing / 2)**2  # arcsec^2\n",
    "\n",
    "pix_scale = 0.6  # arcsec/pixel\n",
    "pix_size = 10e-6  # meter/pixel\n",
    "psf_area_meter = psf_area * (pix_scale * pix_size)**2  # meter^2\n",
    "\n",
    "n_pix = psf_area / app  # number of pixels\n",
    "\n",
    "mag_star = 15  # magnitude\n",
    "mag_background = 21  # magnitude\n",
    "kV = 0.35 * 1.2  # magnitude\n",
    "\n",
    "eff = 0.4  # efficiency of telescope\n",
    "\n",
    "F_star = cal_flux(mag_star, kV, eff)\n",
    "F_background = cal_flux(mag_background, kV, eff)"
   ]
  },
  {
   "attachments": {},
   "cell_type": "markdown",
   "metadata": {},
   "source": [
    "quantum eff"
   ]
  },
  {
   "cell_type": "code",
   "execution_count": 131,
   "metadata": {},
   "outputs": [],
   "source": [
    "wavelength_arr = np.array([350e-9, 400e-9, 500e-9, 650e-9, 900e-9])\n",
    "qe_arr = np.array([0.3, 0.75, 0.75, 0.8, 0.5])\n",
    "# 线性插值量子效率\n",
    "func_qe = lambda l: np.interp(l, wavelength_arr, qe_arr)\n",
    "\n",
    "def cal_avg_qe(center_wavelength, band_waveth):\n",
    "    \"\"\"\n",
    "    Calculate the average quantum efficiency.\n",
    "    \n",
    "    Parameters\n",
    "    ----------\n",
    "    center_wavelength : float\n",
    "        Center wavelength of the band.\n",
    "    band_waveth : float\n",
    "        Bandwidth.\n",
    "        \n",
    "    Returns\n",
    "    -------\n",
    "    avg_qe : float\n",
    "        Average quantum efficiency.\n",
    "    \"\"\"\n",
    "    wavelength_arr = np.arange(center_wavelength - band_waveth / 2, center_wavelength + band_waveth / 2, 0.1)\n",
    "    qe_arr = func_qe(wavelength_arr)\n",
    "    avg_qe = np.sum(qe_arr) / len(qe_arr)\n",
    "    return avg_qe"
   ]
  },
  {
   "cell_type": "code",
   "execution_count": 132,
   "metadata": {},
   "outputs": [],
   "source": [
    "wavelength = 550e-9\n",
    "band_width = 100e-9\n",
    "band_width_nu = np.abs(3e8 / (wavelength - band_width / 2) - 3e8 / (wavelength + band_width / 2))\n",
    "\n",
    "h = 6.626e-34  # J*s\n",
    "energy_per_photon = h * 3e8 / (wavelength)  # J\n",
    "\n",
    "F_count_star = F_star * band_width_nu * psf_area_meter\n",
    "F_count_background = F_background * band_width_nu * psf_area_meter\n",
    "\n",
    "t_exp = 20  # seconds\n",
    "\n",
    "qe_avg_on_band = cal_avg_qe(wavelength, band_width)\n",
    "N_star = F_count_star * qe_avg_on_band / energy_per_photon * t_exp\n",
    "N_background = F_count_background * qe_avg_on_band / energy_per_photon * t_exp\n",
    "\n",
    "eff_dark = 4    # e-/pix/s\n",
    "N_eff = eff_dark * t_exp * n_pix\n",
    "\n",
    "eff_rd = 4  # e-/pix\n",
    "N_rd = eff_rd * np.sqrt(n_pix)"
   ]
  },
  {
   "cell_type": "code",
   "execution_count": 133,
   "metadata": {},
   "outputs": [
    {
     "data": {
      "text/plain": [
       "1.1997633413579915e-28"
      ]
     },
     "execution_count": 133,
     "metadata": {},
     "output_type": "execute_result"
    }
   ],
   "source": [
    "snr = cal_snr(N_star, N_background, N_eff, N_rd)\n",
    "snr"
   ]
  },
  {
   "cell_type": "code",
   "execution_count": 101,
   "metadata": {},
   "outputs": [
    {
     "ename": "SyntaxError",
     "evalue": "invalid syntax (3679583053.py, line 21)",
     "output_type": "error",
     "traceback": [
      "\u001b[0;36m  Cell \u001b[0;32mIn[101], line 21\u001b[0;36m\u001b[0m\n\u001b[0;31m    F_star = cal_flux(mag_star, kV, eff) * erg *   # erg/s/cm^2\u001b[0m\n\u001b[0m                                                   ^\u001b[0m\n\u001b[0;31mSyntaxError\u001b[0m\u001b[0;31m:\u001b[0m invalid syntax\n"
     ]
    }
   ],
   "source": [
    "def func_snr(mag_star):\n",
    "    app = 0.36  # arcsex^2 per pixel\n",
    "\n",
    "    seeing = 1.5  # arcsec\n",
    "    psf_area = np.pi * (seeing / 2)**2  # arcsec^2\n",
    "\n",
    "    pix_scale = 0.6  # arcsec/pixel\n",
    "    pix_size = 10e-6  # meter/pixel\n",
    "    psf_area_meter = psf_area * (pix_scale * pix_size)**2  # meter^2\n",
    "\n",
    "    n_pix = psf_area / app  # number of pixels\n",
    "\n",
    "    # mag_star = 16  # magnitude\n",
    "    mag_background = 21  # magnitude\n",
    "    kV = 0.35 * 1.2  # magnitude\n",
    "\n",
    "    eff = 0.4  # efficiency of telescope\n",
    "\n",
    "    erg = 1e-7  # erg\n",
    "\n",
    "    F_star = cal_flux(mag_star, kV, eff) * erg *   # erg/s/cm^2\n",
    "    F_background = cal_flux(mag_background, kV, eff) * erg\n",
    "\n",
    "    wavelength_arr = np.array([350, 400, 500, 650, 900])\n",
    "    qe_arr = np.array([0.3, 0.75, 0.75, 0.8, 0.5])\n",
    "    # 线性插值量子效率\n",
    "    func_qe = lambda l: np.interp(l, wavelength_arr, qe_arr)\n",
    "    # func_qe = np.vectorize(func_qe)\n",
    "    \n",
    "    wavelength = 550\n",
    "    band_width = 200\n",
    "\n",
    "    h = 6.626e-34  # J*s\n",
    "    energy_per_photon = h * 3e8 / (wavelength * 1e-9)  # J\n",
    "\n",
    "    F_count_star = F_star * band_width * 1e-9 * psf_area_meter\n",
    "    F_count_background = F_background * band_width * 1e-9 * psf_area_meter\n",
    "\n",
    "    t_exp = 20  # seconds\n",
    "\n",
    "    qe_avg_on_band = cal_avg_qe(wavelength, band_width)\n",
    "    N_star = F_count_star * qe_avg_on_band / energy_per_photon * t_exp\n",
    "    N_background = F_count_background * qe_avg_on_band / energy_per_photon * t_exp\n",
    "\n",
    "\n",
    "    eff_dark = 4    # e-/pix/s\n",
    "    N_eff = eff_dark * t_exp * n_pix\n",
    "\n",
    "    eff_rd = 4  # e-/pix\n",
    "    N_rd = eff_rd * n_pix\n",
    "\n",
    "    return cal_snr(N_star, N_background, N_eff, N_rd)"
   ]
  },
  {
   "cell_type": "code",
   "execution_count": 68,
   "metadata": {},
   "outputs": [
    {
     "data": {
      "text/plain": [
       "[<matplotlib.lines.Line2D at 0x7f90c811bb90>]"
      ]
     },
     "execution_count": 68,
     "metadata": {},
     "output_type": "execute_result"
    },
    {
     "data": {
      "image/png": "[encoded data removed]",
      "text/plain": [
       "<Figure size 640x480 with 1 Axes>"
      ]
     },
     "metadata": {},
     "output_type": "display_data"
    }
   ],
   "source": [
    "mag_arr = np.linspace(10, 30, 100)\n",
    "snr_arr = np.array([func_snr(mag) for mag in mag_arr])\n",
    "\n",
    "plt.semilogy(mag_arr, snr_arr)"
   ]
  },
  {
   "cell_type": "code",
   "execution_count": null,
   "metadata": {},
   "outputs": [],
   "source": []
  }
 ],
 "metadata": {
  "kernelspec": {
   "display_name": "pia2023a",
   "language": "python",
   "name": "python3"
  },
  "language_info": {
   "codemirror_mode": {
    "name": "ipython",
    "version": 3
   },
   "file_extension": ".py",
   "mimetype": "text/x-python",
   "name": "python",
   "nbconvert_exporter": "python",
   "pygments_lexer": "ipython3",
   "version": "3.11.3"
  },
  "orig_nbformat": 4
 },
 "nbformat": 4,
 "nbformat_minor": 2
}
