{
 "cells": [
  {
   "cell_type": "code",
   "execution_count": 52,
   "metadata": {},
   "outputs": [],
   "source": [
    "import numpy as np\n",
    "import matplotlib.pyplot as plt\n",
    "from astropy import units as u"
   ]
  },
  {
   "cell_type": "code",
   "execution_count": 53,
   "metadata": {},
   "outputs": [],
   "source": [
    "def cal_snr(\n",
    "        N_star: float,  \n",
    "        N_sky: float, \n",
    "        N_dark: float, \n",
    "        N_read: float, \n",
    "):\n",
    "    \"\"\"\n",
    "    Calculate the SNR of a spectrum.\n",
    "    \n",
    "    Parameters\n",
    "    ----------\n",
    "    N_star : float\n",
    "        Number of photons from the star.\n",
    "    N_sky : float\n",
    "        Number of photons from the sky.\n",
    "    N_dark : float\n",
    "        Number of photons from the dark current.\n",
    "    N_read : float\n",
    "        Number of photons from the read noise.\n",
    "        \n",
    "    Returns\n",
    "    -------\n",
    "    snr : float\n",
    "        SNR of the spectrum.\n",
    "    \"\"\"\n",
    "    snr = N_star / np.sqrt(N_star + (N_sky + N_dark + N_read**2))\n",
    "    return snr\n",
    "\n",
    "def cal_flux(mag, k, eff):\n",
    "    return 10**(-0.4 * (mag - 8.9 + k)) * eff * u.Jy"
   ]
  },
  {
   "cell_type": "code",
   "execution_count": 54,
   "metadata": {},
   "outputs": [],
   "source": [
    "pix_scale = 0.6 * u.arcsec  # arcsec/pixel\n",
    "pix_size = 10e-6 * u.meter  # m/pixel"
   ]
  },
  {
   "cell_type": "code",
   "execution_count": 55,
   "metadata": {},
   "outputs": [],
   "source": [
    "seeing = 1.5 * u.arcsec\n",
    "\n",
    "r_aperture = 1.5 * (seeing / 2)\n",
    "r_star = seeing / 2\n",
    "\n",
    "field_aperture = np.pi * r_aperture**2\n",
    "pix_aperture = field_aperture / pix_scale**2\n",
    "area_aperture = pix_aperture * pix_size**2\n",
    "\n",
    "field_star = np.pi * r_star**2\n",
    "# field_star = field_aperture\n",
    "pix_star = field_star / pix_scale**2\n",
    "area_star = pix_star * pix_size**2"
   ]
  },
  {
   "cell_type": "code",
   "execution_count": 66,
   "metadata": {},
   "outputs": [],
   "source": [
    "mag_star = 20\n",
    "mag_sky = 21\n",
    "kV = 0.35\n",
    "airmass = 1.2\n",
    "tele_eff = 0.4"
   ]
  },
  {
   "cell_type": "code",
   "execution_count": 67,
   "metadata": {},
   "outputs": [
    {
     "data": {
      "text/plain": [
       "(<Quantity 2.13825744e-05 Jy>, <Quantity 8.51255618e-06 Jy>)"
      ]
     },
     "execution_count": 67,
     "metadata": {},
     "output_type": "execute_result"
    }
   ],
   "source": [
    "F_star = cal_flux(mag_star, kV * airmass, tele_eff)\n",
    "F_sky = cal_flux(mag_sky, kV * airmass, tele_eff)\n",
    "\n",
    "F_star, F_sky"
   ]
  },
  {
   "attachments": {},
   "cell_type": "markdown",
   "metadata": {},
   "source": [
    "quantum eff"
   ]
  },
  {
   "cell_type": "code",
   "execution_count": 68,
   "metadata": {},
   "outputs": [],
   "source": [
    "wavelength_arr = np.array([350, 400, 500, 650, 900]) * u.nm\n",
    "qe_arr = np.array([0.3, 0.75, 0.75, 0.8, 0.5]) * u.electron / u.photon\n",
    "# 线性插值量子效率\n",
    "func_qe = lambda l: np.interp(l, wavelength_arr, qe_arr)"
   ]
  },
  {
   "cell_type": "code",
   "execution_count": 69,
   "metadata": {},
   "outputs": [
    {
     "data": {
      "text/latex": [
       "$0.76666667 \\; \\mathrm{\\frac{e^{-}}{ph}}$"
      ],
      "text/plain": [
       "<Quantity 0.76666667 electron / ph>"
      ]
     },
     "execution_count": 69,
     "metadata": {},
     "output_type": "execute_result"
    }
   ],
   "source": [
    "wavelength = 550 * u.nm\n",
    "band_width = 100 * u.nm\n",
    "# band_width_nu = np.abs(3e8 / (wavelength - band_width / 2) - 3e8 / (wavelength + band_width / 2))\n",
    "freq_width = (3e8 * u.m / u.second / wavelength**2 * band_width).to(u.Hz)\n",
    "\n",
    "qe = func_qe(wavelength)\n",
    "qe"
   ]
  },
  {
   "cell_type": "code",
   "execution_count": 70,
   "metadata": {},
   "outputs": [
    {
     "data": {
      "text/plain": [
       "(<Quantity 2826.3915104 electron>, <Quantity 1125.20672708 electron>)"
      ]
     },
     "execution_count": 70,
     "metadata": {},
     "output_type": "execute_result"
    }
   ],
   "source": [
    "# plank constant\n",
    "h = 6.626e-34 * u.J * u.second\n",
    "# energy per photon\n",
    "E = h * 3e8 * u.m /u.second / wavelength / u.photon\n",
    "\n",
    "t_exp = 20 * u.second\n",
    "\n",
    "area_tele = np.pi * (1 * u.meter)**2\n",
    "\n",
    "N_star = F_star * area_tele * freq_width / E * qe * t_exp\n",
    "N_sky = F_sky * area_tele * freq_width / E * qe * t_exp\n",
    "\n",
    "# simplify unit\n",
    "N_star.to(u.electron), N_sky.to(u.electron)"
   ]
  },
  {
   "cell_type": "code",
   "execution_count": 71,
   "metadata": {},
   "outputs": [
    {
     "data": {
      "text/latex": [
       "$0.24543693 \\; \\mathrm{e^{-}}$"
      ],
      "text/plain": [
       "<Quantity 0.24543693 electron>"
      ]
     },
     "execution_count": 71,
     "metadata": {},
     "output_type": "execute_result"
    }
   ],
   "source": [
    "eff_dark = 4 * u.electron / u.hour    # e-/pix/hour\n",
    "N_eff = eff_dark * t_exp * pix_aperture\n",
    "N_eff.to(u.electron)"
   ]
  },
  {
   "cell_type": "code",
   "execution_count": 72,
   "metadata": {},
   "outputs": [
    {
     "data": {
      "text/latex": [
       "$13.293404 \\; \\mathrm{e^{-}}$"
      ],
      "text/plain": [
       "<Quantity 13.29340388 electron>"
      ]
     },
     "execution_count": 72,
     "metadata": {},
     "output_type": "execute_result"
    }
   ],
   "source": [
    "eff_read = 4 * u.electron\n",
    "N_read = eff_read * np.sqrt(pix_aperture)\n",
    "N_read"
   ]
  },
  {
   "cell_type": "code",
   "execution_count": 73,
   "metadata": {},
   "outputs": [
    {
     "data": {
      "text/plain": [
       "43.98788805333756"
      ]
     },
     "execution_count": 73,
     "metadata": {},
     "output_type": "execute_result"
    }
   ],
   "source": [
    "snr = cal_snr(N_star.to(u.electron).value, N_sky.to(u.electron).value, N_eff.to(u.electron).value, N_read.to(u.electron).value)\n",
    "snr"
   ]
  },
  {
   "cell_type": "code",
   "execution_count": null,
   "metadata": {},
   "outputs": [],
   "source": []
  },
  {
   "cell_type": "code",
   "execution_count": 77,
   "metadata": {},
   "outputs": [
    {
     "data": {
      "text/latex": [
       "$3.4377468 \\; \\mathrm{m}$"
      ],
      "text/plain": [
       "<Quantity 3.43774677 m>"
      ]
     },
     "execution_count": 77,
     "metadata": {},
     "output_type": "execute_result"
    }
   ],
   "source": [
    "180 * 3600 * 10e-6 * u.meter / np.pi / (0.6)"
   ]
  },
  {
   "cell_type": "code",
   "execution_count": null,
   "metadata": {},
   "outputs": [],
   "source": []
  }
 ],
 "metadata": {
  "kernelspec": {
   "display_name": "pia2023a",
   "language": "python",
   "name": "python3"
  },
  "language_info": {
   "codemirror_mode": {
    "name": "ipython",
    "version": 3
   },
   "file_extension": ".py",
   "mimetype": "text/x-python",
   "name": "python",
   "nbconvert_exporter": "python",
   "pygments_lexer": "ipython3",
   "version": "3.11.3"
  },
  "orig_nbformat": 4
 },
 "nbformat": 4,
 "nbformat_minor": 2
}
