{
 "cells": [
  {
   "attachments": {},
   "cell_type": "markdown",
   "metadata": {},
   "source": [
    "# 测光数据处理\n",
    "\n",
    "黄样 huangyang@ucas.ac.cn"
   ]
  },
  {
   "attachments": {},
   "cell_type": "markdown",
   "metadata": {},
   "source": [
    "大规模巡天：\n",
    "- 人眼时代 1609s - 1850s\n",
    "- 照相底片时代 1850s - 1980s\n",
    "- 数字化时代 1980s - now\n",
    "\n",
    "天体完备信息：三位位置、三维速度、年龄、化学组成Z\n",
    "\n",
    "解串扰（cross-talk）：\n",
    "- 用亮星，在另一张图“同读出时”位置上强制测光，算流量差\n",
    "\n",
    "读出噪声标定\n",
    "增益标定\n",
    "本底（图像零点），overscan\n",
    "平场\n",
    "- 小尺度：pixel响应（QE在空间上的分布）\n",
    "- 大尺度：dust，光学设计效应，\n",
    "Dome flat, sky flat -> dome flat / sky flat -> 同时改大尺度小尺度\n",
    "\n",
    "mask掉星链的直线：hop变换"
   ]
  },
  {
   "attachments": {},
   "cell_type": "markdown",
   "metadata": {},
   "source": [
    "天测与测光\n",
    "\n",
    "孔径：1.5*FWHM\n",
    "\n",
    "scamp 天测 ~0.5\"精度，二次迭代精度高，得出像场畸变\n",
    "\n",
    "sex孔径测光，psf测光"
   ]
  },
  {
   "attachments": {},
   "cell_type": "markdown",
   "metadata": {},
   "source": [
    "流量定标 $f_{ADU}=kf$ \n",
    "\n",
    "k：望远镜响应@ccd像素位置+含时（观测季），大气消光，探测器平场，……\n",
    "\n",
    "修正方法\n",
    "- 传统：流量标准星\n",
    "- ubercalibration：使用overlap，选一个作为reference image\n",
    "- stellar focus / color regression @苑海波"
   ]
  },
  {
   "cell_type": "code",
   "execution_count": null,
   "metadata": {},
   "outputs": [],
   "source": []
  }
 ],
 "metadata": {
  "kernelspec": {
   "display_name": "pia2023a",
   "language": "python",
   "name": "python3"
  },
  "language_info": {
   "name": "python",
   "version": "3.11.3"
  },
  "orig_nbformat": 4
 },
 "nbformat": 4,
 "nbformat_minor": 2
}
